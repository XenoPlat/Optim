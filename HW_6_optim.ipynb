{
  "nbformat": 4,
  "nbformat_minor": 0,
  "metadata": {
    "kernelspec": {
      "display_name": "Python 3",
      "language": "python",
      "name": "python3"
    },
    "language_info": {
      "codemirror_mode": {
        "name": "ipython",
        "version": 3
      },
      "file_extension": ".py",
      "mimetype": "text/x-python",
      "name": "python",
      "nbconvert_exporter": "python",
      "pygments_lexer": "ipython3",
      "version": "3.7.4"
    },
    "colab": {
      "name": "HW_6_optim",
      "provenance": []
    }
  },
  "cells": [
    {
      "cell_type": "markdown",
      "metadata": {
        "id": "DUh0N7iNvwf9",
        "colab_type": "text"
      },
      "source": [
        "## Урок 6. Методы многокритериальной оптимизации"
      ]
    },
    {
      "cell_type": "markdown",
      "metadata": {
        "id": "ZoFEe4HMv1d5",
        "colab_type": "text"
      },
      "source": [
        "## Практическое задание:\n",
        "Для выполнения работ P_1, P_2, P_3 сельскохозяйственное предприятие может приобрести тракторы марок А и B стоимостью соответственно c_1 и c_2 ден. ед. каждый. С использованием новой техники необходимо выполнить не менее b_1 условных единиц работы P_1 не менее b_2 условных единиц работы P_2 и не менее b_3 условных единиц работы P_3. За рассматриваемый промежуток времени с использованием трактора марки A можно выполнить a_11 условных единиц работы P_1, a_21 условных единиц работы P_2 и a_31 условных единиц работы P_3; с использованием трактора марки Б – a_12 условных единиц работы P_1, a_22 условных единиц работы P_2 и a_23 условных единиц работы P_3.\n",
        "\n",
        "Требуется:\n",
        "\n",
        "Составить экономико-математическую модель, позволяющую найти такой вариант приобретения тракторов той или другой марки, при котором будут выполнены все необходимые работы, а затраты на новую технику будут минимальны;\n",
        "Пользуясь методом ветвей и границ, найти оптимальный вариант приобретения тракторов.\n",
        "\n",
        "b_1 = 20, b_2 = 190, b_3 = 88, a_11 = 4, a_21 = 19, a_31=4, a_12 = 1, a_22 = 15, a_32 = 15, c_1= 3, c_2 = 5"
      ]
    },
    {
      "cell_type": "markdown",
      "metadata": {
        "id": "KED8l4m4vmL7",
        "colab_type": "text"
      },
      "source": [
        "__Решение:__"
      ]
    },
    {
      "cell_type": "code",
      "metadata": {
        "id": "wt50uH3xvmLP",
        "colab_type": "code",
        "colab": {}
      },
      "source": [
        "import numpy as np"
      ],
      "execution_count": 1,
      "outputs": []
    },
    {
      "cell_type": "markdown",
      "metadata": {
        "id": "XNk_SZMG-XAv",
        "colab_type": "text"
      },
      "source": [
        "Через  x1  и  x2  обозначим количество приобретаемой техники вида A и B соответственно.<br>\n",
        "Целевая функция:<br>\n",
        "\n",
        "\n",
        "$f = 3x_1 + 5x_2 \\rightarrow min$\n",
        "\n",
        "$\\left\\{ \\begin{matrix}\n",
        "4x_1+x_2 >= 20 \\\\\n",
        "19x_1+15x_2 >= 190 \\\\\n",
        "4x_1+15x_2 >= 88\n",
        "\\end{matrix} \\right.$\n",
        "\n",
        "где $ x_1 >=0\\ и\\ x_2 >=0$<br>\n",
        "И еще одно обязательное условие: $x_1 и\\ x_2\\ - целые\\ числа$\n",
        "\n"
      ]
    },
    {
      "cell_type": "markdown",
      "metadata": {
        "id": "L3-9t0KVHCng",
        "colab_type": "text"
      },
      "source": [
        "Необходимо решить систему уравнений."
      ]
    },
    {
      "cell_type": "code",
      "metadata": {
        "id": "wZFRajslIVTY",
        "colab_type": "code",
        "colab": {
          "base_uri": "https://localhost:8080/",
          "height": 35
        },
        "outputId": "1ca42972-6e86-4589-88f0-1047e493dfce"
      },
      "source": [
        "c_1, c_2 = 3, 5\n",
        "a_11, a_21, a_31 = 4, 19, 4\n",
        "a_12, a_22, a_32 = 1, 15, 15\n",
        "b_1, b_2, b_3 = 20, 190, 88\n",
        "\n",
        "A = np.array([[4., 1.], [19., 15.], [4., 15.]])\n",
        "B = np.array([20., 190., 88.])\n",
        "n = np.linalg.lstsq(A, B, rcond=None)[0]\n",
        "x1, x2 = int(n[0]), int(n[1])\n",
        "print('x1 =',x1,'x2 =', x2)"
      ],
      "execution_count": 2,
      "outputs": [
        {
          "output_type": "stream",
          "text": [
            "x1 = 6 x2 = 4\n"
          ],
          "name": "stdout"
        }
      ]
    },
    {
      "cell_type": "markdown",
      "metadata": {
        "id": "tPOyth1nJvuq",
        "colab_type": "text"
      },
      "source": [
        "Проверяем соблюдаются ли условия:"
      ]
    },
    {
      "cell_type": "code",
      "metadata": {
        "id": "1CMHWgicKLWB",
        "colab_type": "code",
        "colab": {
          "base_uri": "https://localhost:8080/",
          "height": 69
        },
        "outputId": "7928088a-14b2-4285-dcbe-f61ca89ea4f4"
      },
      "source": [
        " \n",
        " \n",
        "print('1: ', a_11*x1 + x2 >= b_1)\n",
        "print('2: ', a_21*x1 + a_22*x2 >= b_2)\n",
        "print('3: ', a_31*x1 + a_32*x2 >= b_3)"
      ],
      "execution_count": 3,
      "outputs": [
        {
          "output_type": "stream",
          "text": [
            "1:  True\n",
            "2:  False\n",
            "3:  False\n"
          ],
          "name": "stdout"
        }
      ]
    },
    {
      "cell_type": "markdown",
      "metadata": {
        "id": "hV24LErIMPXd",
        "colab_type": "text"
      },
      "source": [
        "2-е и 3-е условия не соблюдаются. Что можно предпринять? Попробуем увеличить число единиц техники A и уменьшить число единиц техники B. На одну единицу (вообще-то здесь можно вставить функцию перебора, но задача вроде несложная, да и когда руками делаешь, то понятнее становится.<br>\n",
        "Проверяем:"
      ]
    },
    {
      "cell_type": "code",
      "metadata": {
        "id": "XM5p-reeP5bd",
        "colab_type": "code",
        "colab": {
          "base_uri": "https://localhost:8080/",
          "height": 69
        },
        "outputId": "7a1ac234-42ef-4940-dab7-7f2f4113894c"
      },
      "source": [
        "x1, x2 = x1+1, x2-1\n",
        "print('1: ', a_11*x1 + x2 >= b_1)\n",
        "print('2: ', a_21*x1 + a_22*x2 >= b_2)\n",
        "print('3: ', a_31*x1 + a_32*x2 >= b_3)"
      ],
      "execution_count": 4,
      "outputs": [
        {
          "output_type": "stream",
          "text": [
            "1:  True\n",
            "2:  False\n",
            "3:  False\n"
          ],
          "name": "stdout"
        }
      ]
    },
    {
      "cell_type": "markdown",
      "metadata": {
        "id": "4HTmb7MKQyoV",
        "colab_type": "text"
      },
      "source": [
        "Не работает. Понятно почему: не нужно было уменьшать B. Попробуем еще раз:"
      ]
    },
    {
      "cell_type": "code",
      "metadata": {
        "id": "0BDy9vxoRJB2",
        "colab_type": "code",
        "colab": {
          "base_uri": "https://localhost:8080/",
          "height": 69
        },
        "outputId": "c26270bf-1862-4d8a-927b-8a9e09a942f4"
      },
      "source": [
        "x2 = x2+1\n",
        "print('1: ', a_11*x1 + x2 >= b_1)\n",
        "print('2: ', a_21*x1 + a_22*x2 >= b_2)\n",
        "print('3: ', a_31*x1 + a_32*x2 >= b_3)"
      ],
      "execution_count": 5,
      "outputs": [
        {
          "output_type": "stream",
          "text": [
            "1:  True\n",
            "2:  True\n",
            "3:  True\n"
          ],
          "name": "stdout"
        }
      ]
    },
    {
      "cell_type": "markdown",
      "metadata": {
        "id": "qfvuBtI0RWcb",
        "colab_type": "text"
      },
      "source": [
        "Заработало. Т.е. предварительно закупаем 7 тракторов A и 4 трактора B. Посмотрим что со стоимостью:"
      ]
    },
    {
      "cell_type": "code",
      "metadata": {
        "id": "lPDC6OnMSq8X",
        "colab_type": "code",
        "colab": {
          "base_uri": "https://localhost:8080/",
          "height": 35
        },
        "outputId": "641d2f01-e889-4373-a257-481294f5934a"
      },
      "source": [
        "x1*c_1 + x2*c_2"
      ],
      "execution_count": 6,
      "outputs": [
        {
          "output_type": "execute_result",
          "data": {
            "text/plain": [
              "41"
            ]
          },
          "metadata": {
            "tags": []
          },
          "execution_count": 6
        }
      ]
    },
    {
      "cell_type": "markdown",
      "metadata": {
        "id": "ILEEHx8yMiXq",
        "colab_type": "text"
      },
      "source": [
        "Вроде неплохо получилось."
      ]
    }
  ]
}