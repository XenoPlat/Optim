{
  "nbformat": 4,
  "nbformat_minor": 0,
  "metadata": {
    "colab": {
      "name": "HW_7_optim",
      "provenance": [],
      "collapsed_sections": [],
      "authorship_tag": "ABX9TyNtn2euL2RryOGYisqanJ81",
      "include_colab_link": true
    },
    "kernelspec": {
      "name": "python3",
      "display_name": "Python 3"
    }
  },
  "cells": [
    {
      "cell_type": "markdown",
      "metadata": {
        "id": "view-in-github",
        "colab_type": "text"
      },
      "source": [
        "<a href=\"https://colab.research.google.com/github/XenoPlat/Optim/blob/master/HW_7_optim.ipynb\" target=\"_parent\"><img src=\"https://colab.research.google.com/assets/colab-badge.svg\" alt=\"Open In Colab\"/></a>"
      ]
    },
    {
      "cell_type": "markdown",
      "metadata": {
        "id": "5-xfhHZfH8CC",
        "colab_type": "text"
      },
      "source": [
        "## Урок 7. Градиентный спуск\n",
        "## Практическое задание\n",
        "\n",
        "__Выбрать один из алгоритмов представленных по ссылке и реализовать его.__"
      ]
    },
    {
      "cell_type": "markdown",
      "metadata": {
        "id": "Hlimr1FIIT22",
        "colab_type": "text"
      },
      "source": [
        "Попробуем забороть One Point Crossover"
      ]
    },
    {
      "cell_type": "code",
      "metadata": {
        "id": "DRvg9BZp50R4",
        "colab_type": "code",
        "colab": {}
      },
      "source": [
        "import random"
      ],
      "execution_count": 1,
      "outputs": []
    },
    {
      "cell_type": "code",
      "metadata": {
        "id": "9MK9ErCe5-tU",
        "colab_type": "code",
        "colab": {
          "base_uri": "https://localhost:8080/",
          "height": 399
        },
        "outputId": "57f4689f-5408-41e0-8119-15ce5b1ee088"
      },
      "source": [
        "# функция для выполненения кроссовера \n",
        "def crossover(l, q): \n",
        "  \n",
        "# конвертация строки в лист для работы с кроссовером\n",
        "    l = list(l) \n",
        "    q = list(q) \n",
        "  \n",
        "# генерация случайного числа \n",
        "    k = random.randint(0, 15) \n",
        "    print('Точка кроссовера :', k) \n",
        "  \n",
        "# меняем гены \n",
        "    for i in range(k, len(s)): \n",
        "        l[i], q[i] = q[i], l[i] \n",
        "    l = ''.join(l) \n",
        "    q = ''.join(q) \n",
        "    print(l) \n",
        "    print(q, \"\\n\\n\") \n",
        "    return l, q \n",
        "  \n",
        "  \n",
        "# хромосомы родителей: \n",
        "  \n",
        "s = '2645312501052842'\n",
        "p = '1436528704925010'\n",
        "print('Родители') \n",
        "print('P1 :', s) \n",
        "print('P2 :', p, '\\n') \n",
        "  \n",
        "# функция зарождения и сохранения следующих поколений \n",
        "for i in range(3): \n",
        "    print('Поколение', i+1,', ' 'Дети:') \n",
        "    s, p = crossover(s, p) "
      ],
      "execution_count": 2,
      "outputs": [
        {
          "output_type": "stream",
          "text": [
            "Родители\n",
            "P1 : 2645312501052842\n",
            "P2 : 1436528704925010 \n",
            "\n",
            "Поколение 1 , Дети:\n",
            "Точка кроссовера : 12\n",
            "2645312501055010\n",
            "1436528704922842 \n",
            "\n",
            "\n",
            "Поколение 2 , Дети:\n",
            "Точка кроссовера : 4\n",
            "2645528704922842\n",
            "1436312501055010 \n",
            "\n",
            "\n",
            "Поколение 3 , Дети:\n",
            "Точка кроссовера : 5\n",
            "2645512501055010\n",
            "1436328704922842 \n",
            "\n",
            "\n"
          ],
          "name": "stdout"
        }
      ]
    }
  ]
}