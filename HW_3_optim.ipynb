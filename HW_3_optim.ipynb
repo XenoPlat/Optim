{
  "nbformat": 4,
  "nbformat_minor": 0,
  "metadata": {
    "colab": {
      "name": "HW_3_optim",
      "provenance": [],
      "collapsed_sections": [],
      "authorship_tag": "ABX9TyO3nghSVAHuLm+eU5dLZQmg",
      "include_colab_link": true
    },
    "kernelspec": {
      "name": "python3",
      "display_name": "Python 3"
    }
  },
  "cells": [
    {
      "cell_type": "markdown",
      "metadata": {
        "id": "view-in-github",
        "colab_type": "text"
      },
      "source": [
        "<a href=\"https://colab.research.google.com/github/XenoPlat/Optim/blob/master/HW_3_optim.ipynb\" target=\"_parent\"><img src=\"https://colab.research.google.com/assets/colab-badge.svg\" alt=\"Open In Colab\"/></a>"
      ]
    },
    {
      "cell_type": "markdown",
      "metadata": {
        "id": "a-ntZ9RNxOnB",
        "colab_type": "text"
      },
      "source": [
        "## Практическое задание к уроку 3. Условная и безусловная оптимизация\n",
        "\n",
        "1. Сталепрокатное предприятие выпускает стандартные стальные листы размерами 1500×6000 мм. Ежемесячный объем заказов на листы нестандартных размеров приведён ниже: 500×600 — 3000, 1000×400 — 2000, 1500×1000 — 1500 Необходимо составить ЦФ для нахождения наименее затратного раскроя листов. \n",
        "\n",
        "** и составить алгоритм"
      ]
    },
    {
      "cell_type": "markdown",
      "metadata": {
        "id": "JhJutdVlxhVs",
        "colab_type": "text"
      },
      "source": [
        "Пусть у нас имеется m вариантов раскроя, т.е. известны величины $a_{ij} (i= \\overline{1,m}, j=\\overline{1,3})$, определяющие количество единиц j-x изделий при i-м способе раскроя, и остаток листа  $a_i$.\n",
        "\n",
        "Пусть $x_i$ - количество листов, раскраиваемых i-м вариантом $(i=\\overline{1,m})$\n",
        "\n",
        "Тогда количество листов 1-го вида равно:\n",
        "\n",
        "$$a_{11}x_1+...+a_{i1}x_i+...+a_{m1}x_m$$\n",
        "\n",
        "Учитывая условия требуемого количества:\n",
        "\n",
        "\\begin{array} $a_{11}x_1+...+a_{i1}x_i+...+a_{m1}x_m = 3\\ 000 \\\\ a_{12}x_1+...+a_{i2}x_i+...+a_{m2}x_m = 2\\ 000 \\\\ a_{13}x_1+...+a_{i3}x_i+...+a_{m3}x_m = 1\\ 500\\end{array} \n",
        "\n",
        "введем ограничение для функции\n",
        "\n",
        "$$x_1 + x_2 + ... +x_m > 0 $$\n",
        "\n",
        "Целевая функция будет:\n",
        "$$\\sum_{i=1}^{m}x_ia_i \\rightarrow min$$\n",
        "\n",
        "\n",
        "Итого:\n",
        "$$\\sum_{i=1}^{m}x_ia_i \\rightarrow min$$\n",
        "$$a_{1j}x_1+...+a_{ij}x_i+...+a_{mj}x_m = k_j$$\n",
        "\n",
        "где $k_j$ - необходимое количество изделий"
      ]
    },
    {
      "cell_type": "markdown",
      "metadata": {
        "id": "YfOGAZLW5U3u",
        "colab_type": "text"
      },
      "source": [
        "__Алгоритм:__"
      ]
    },
    {
      "cell_type": "markdown",
      "metadata": {
        "id": "JSdDpXlB50Oz",
        "colab_type": "text"
      },
      "source": [
        "Составим матрицу раскроя листов:\n",
        "\n",
        "<table style='border: 1px solid #595959;'>\n",
        "\t<tbody>\n",
        "\t\t<tr>\n",
        "\t\t\t<td>изделие</td>\n",
        "\t\t\t<td>план</td>\n",
        "\t\t\t<td>1</td>\n",
        "\t\t\t<td>2</td>\n",
        "\t\t\t<td>3</td>\n",
        "\t\t\t<td>4</td>\n",
        "\t\t\t<td>5</td>\n",
        "\t\t\t<td>6</td>\n",
        "\t\t</tr>\n",
        "\t\t<tr>\n",
        "\t\t\t<td>1 (500*600)</td>\n",
        "\t\t\t<td>3 000</td>\n",
        "\t\t\t<td>30</td>\n",
        "\t\t\t<td>0</td>\n",
        "\t\t\t<td>15</td>\n",
        "\t\t\t<td>6</td>\n",
        "\t\t\t<td>22</td>\n",
        "\t\t\t<td>$a_1$</td>\n",
        "\t\t</tr>\n",
        "\t\t<tr>\n",
        "\t\t\t<td>2 (1 000*400)</td>\n",
        "\t\t\t<td>2 000</td>\n",
        "\t\t\t<td>0</td>\n",
        "\t\t\t<td>0</td>\n",
        "\t\t\t<td>10</td>\n",
        "\t\t\t<td>10</td>\n",
        "\t\t\t<td>6</td>\n",
        "\t\t\t<td>$a_2$</td>\n",
        "\t\t</tr>\n",
        "\t\t<tr>\n",
        "\t\t\t<td>3 (1500*1000)</td>\n",
        "\t\t\t<td>1 500</td>\n",
        "\t\t\t<td>0</td>\n",
        "\t\t\t<td>6</td>\n",
        "\t\t\t<td>0</td>\n",
        "\t\t\t<td>2</td>\n",
        "\t\t\t<td>0</td>\n",
        "\t\t\t<td>$a_3$</td>\n",
        "\t\t</tr>\n",
        "\t\t\t</tbody>\n",
        "</table>"
      ]
    },
    {
      "cell_type": "markdown",
      "metadata": {
        "id": "bCM0hutt5qfZ",
        "colab_type": "text"
      },
      "source": [
        "Получены коэфиценты при x. Дальнейший поиск оптимального варианта состоит в решении системы линейных уравнений вида:\n",
        "$$a_{1j}x_1+...+a_{ij}x_i+...+a_{mj}x_m = k_j$$ \n",
        "\n",
        "При этом должно соблюдаться условие, что решение соответсвует ЦФ $$\\sum_{i=1}^{m}x_ia_i \\rightarrow min$$"
      ]
    },
    {
      "cell_type": "markdown",
      "metadata": {
        "id": "-kWGIHSF9i87",
        "colab_type": "text"
      },
      "source": [
        "2. Пусть есть компания, занимающаяся доставкой, Belivery Club.\n",
        "Есть N зон, в которых есть спрос на курьеров в каждый час. Внутри дня в разные часы спрос различен. Каждой зоне i в час h необходимо необходимо ${n_{hi}}$ курьеров. Для каждой зоны есть штраф из-за недостаточно 1 курьера - ${s_i}$. Так же у каждого курьера есть предпочтения относительно часов и зон работы. Необходимо распределить M курьеров таким образом, чтобы суммарный штраф был минимальный.\n",
        "Описать формулу в общем случае, т.е. без каких-либо числовых данных."
      ]
    },
    {
      "cell_type": "markdown",
      "metadata": {
        "id": "himgY3M6_Y1y",
        "colab_type": "text"
      },
      "source": [
        "Пронумеруем курьеров:\n",
        "\n",
        "пусть $x_{hi}^k$ = 1, если k-курьер работает в час h в i зоне;<br>\n",
        "пусть $y_{hi}^k$ = 1, усли k-курьер предпочитает работать в час h в i зоне.<br>\n",
        "Тогда в одной зоне в час h работает курьеров: $$\\sum_{k=1}^{M} x_{hi}^ky_{hi}^k$$<br>\n",
        "Штраф в час в этой зоне:<br>\n",
        "$$ f_{hi} = \\begin{cases} 0, \\space если \\space \\sum_{k=1}^{M} x_{hi}^ky_{hi}^k - n_{hi} \\geqslant 0 \\\\\n",
        "s_i * (\\sum_{k=1}^{M} x_{hi}^ky_{hi}^k - n_{hi}), в\\space противном\\space случае \\end {cases}$$<br> \n",
        "Штраф за день: $$\\sum_{h=1}^{24}f_{hi}$$<br>\n",
        "Штраф по всем зонам в течении дня:<br>\n",
        "$$\\sum_{i=1}^{N}\\sum_{h=1}^{24}f_{hi}$$<br>\n",
        "Т.о., ЦФ:<br>\n",
        "$$\\sum_{i=1}^{N}\\sum_{h=1}^{24}f_{hi} \\rightarrow min $$"
      ]
    }
  ]
}